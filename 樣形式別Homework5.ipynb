{
 "cells": [
  {
   "cell_type": "markdown",
   "id": "d0c83187",
   "metadata": {},
   "source": [
    "# **<font color=\"red\">Generalization: The goal of machine learning</font>**"
   ]
  },
  {
   "cell_type": "markdown",
   "id": "51c83c4b",
   "metadata": {},
   "source": [
    "## **<font color=\"blue\">Underfitting and overfitting</font>**"
   ]
  },
  {
   "cell_type": "markdown",
   "id": "3c465afe",
   "metadata": {},
   "source": [
    "### **<font color=\"blue\">Noisy training data</font>**"
   ]
  },
  {
   "cell_type": "markdown",
   "id": "6b5378e6",
   "metadata": {},
   "source": [
    "### **<font color=\"blue\">Ambiguous features</font>**"
   ]
  },
  {
   "cell_type": "markdown",
   "id": "1646d084",
   "metadata": {},
   "source": [
    "## **<font color=\"blue\">Rare features and spurious correlations</font>**"
   ]
  },
  {
   "cell_type": "markdown",
   "id": "21816f23",
   "metadata": {},
   "source": [
    "### **<font color=\"blue\">Adding white-noise channels or all-zeros channels to MNIST</font>**"
   ]
  },
  {
   "cell_type": "code",
   "execution_count": 2,
   "id": "197c39d2",
   "metadata": {},
   "outputs": [],
   "source": [
    "from tensorflow.keras.datasets import mnist\n",
    "import numpy as np\n",
    "\n",
    "(train_images, train_labels), _ = mnist.load_data()\n",
    "train_images = train_images.reshape((60000, 28 * 28))\n",
    "train_images = train_images.astype(\"float32\") / 255\n",
    "\n",
    "train_images_with_noise_channels = np.concatenate(\n",
    "    [train_images, np.random.random((len(train_images), 784))], axis=1)\n",
    "\n",
    "train_images_with_zeros_channels = np.concatenate(\n",
    "    [train_images, np.zeros((len(train_images), 784))], axis=1)"
   ]
  },
  {
   "cell_type": "markdown",
   "id": "5cbb16de",
   "metadata": {},
   "source": [
    "### **<font color=\"blue\">Training the same model on MNIST data with noise channels or all-zero channels</font>**"
   ]
  },
  {
   "cell_type": "code",
   "execution_count": 3,
   "id": "f7d493ce",
   "metadata": {},
   "outputs": [
    {
     "name": "stdout",
     "output_type": "stream",
     "text": [
      "Epoch 1/10\n",
      "375/375 [==============================] - 5s 10ms/step - loss: 0.6121 - accuracy: 0.8124 - val_loss: 0.2817 - val_accuracy: 0.9140\n",
      "Epoch 2/10\n",
      "375/375 [==============================] - 4s 10ms/step - loss: 0.2533 - accuracy: 0.9219 - val_loss: 0.1830 - val_accuracy: 0.9431\n",
      "Epoch 3/10\n",
      "375/375 [==============================] - 3s 9ms/step - loss: 0.1637 - accuracy: 0.9492 - val_loss: 0.2133 - val_accuracy: 0.9386\n",
      "Epoch 4/10\n",
      "375/375 [==============================] - 3s 9ms/step - loss: 0.1172 - accuracy: 0.9636 - val_loss: 0.1246 - val_accuracy: 0.9637\n",
      "Epoch 5/10\n",
      "375/375 [==============================] - 3s 9ms/step - loss: 0.0845 - accuracy: 0.9725 - val_loss: 0.1342 - val_accuracy: 0.9600\n",
      "Epoch 6/10\n",
      "375/375 [==============================] - 3s 9ms/step - loss: 0.0624 - accuracy: 0.9805 - val_loss: 0.1682 - val_accuracy: 0.9519\n",
      "Epoch 7/10\n",
      "375/375 [==============================] - 4s 9ms/step - loss: 0.0467 - accuracy: 0.9851 - val_loss: 0.1222 - val_accuracy: 0.9669\n",
      "Epoch 8/10\n",
      "375/375 [==============================] - 3s 9ms/step - loss: 0.0343 - accuracy: 0.9886 - val_loss: 0.1198 - val_accuracy: 0.9684\n",
      "Epoch 9/10\n",
      "375/375 [==============================] - 3s 9ms/step - loss: 0.0285 - accuracy: 0.9907 - val_loss: 0.1293 - val_accuracy: 0.9659\n",
      "Epoch 10/10\n",
      "375/375 [==============================] - 3s 9ms/step - loss: 0.0204 - accuracy: 0.9933 - val_loss: 0.1349 - val_accuracy: 0.9665\n",
      "Epoch 1/10\n",
      "375/375 [==============================] - 4s 10ms/step - loss: 0.2891 - accuracy: 0.9158 - val_loss: 0.1490 - val_accuracy: 0.9561\n",
      "Epoch 2/10\n",
      "375/375 [==============================] - 4s 10ms/step - loss: 0.1198 - accuracy: 0.9642 - val_loss: 0.1029 - val_accuracy: 0.9704\n",
      "Epoch 3/10\n",
      "375/375 [==============================] - 4s 10ms/step - loss: 0.0781 - accuracy: 0.9769 - val_loss: 0.0859 - val_accuracy: 0.9756\n",
      "Epoch 4/10\n",
      "375/375 [==============================] - 4s 10ms/step - loss: 0.0565 - accuracy: 0.9831 - val_loss: 0.0881 - val_accuracy: 0.9743\n",
      "Epoch 5/10\n",
      "375/375 [==============================] - 4s 10ms/step - loss: 0.0419 - accuracy: 0.9874 - val_loss: 0.0877 - val_accuracy: 0.9767\n",
      "Epoch 6/10\n",
      "375/375 [==============================] - 4s 9ms/step - loss: 0.0309 - accuracy: 0.9904 - val_loss: 0.0877 - val_accuracy: 0.9739\n",
      "Epoch 7/10\n",
      "375/375 [==============================] - 4s 10ms/step - loss: 0.0241 - accuracy: 0.9930 - val_loss: 0.0813 - val_accuracy: 0.9788\n",
      "Epoch 8/10\n",
      "375/375 [==============================] - 4s 10ms/step - loss: 0.0180 - accuracy: 0.9949 - val_loss: 0.0893 - val_accuracy: 0.9772\n",
      "Epoch 9/10\n",
      "375/375 [==============================] - 4s 10ms/step - loss: 0.0140 - accuracy: 0.9959 - val_loss: 0.0804 - val_accuracy: 0.9810\n",
      "Epoch 10/10\n",
      "375/375 [==============================] - 4s 10ms/step - loss: 0.0110 - accuracy: 0.9970 - val_loss: 0.0812 - val_accuracy: 0.9806\n"
     ]
    }
   ],
   "source": [
    "from tensorflow import keras\n",
    "from tensorflow.keras import layers\n",
    "\n",
    "def get_model():\n",
    "    model = keras.Sequential([\n",
    "        layers.Dense(512, activation=\"relu\"),\n",
    "        layers.Dense(10, activation=\"softmax\")\n",
    "    ])\n",
    "    model.compile(optimizer=\"rmsprop\",\n",
    "                  loss=\"sparse_categorical_crossentropy\",\n",
    "                  metrics=[\"accuracy\"])\n",
    "    return model\n",
    "\n",
    "model = get_model()\n",
    "history_noise = model.fit(\n",
    "    train_images_with_noise_channels, train_labels,\n",
    "    epochs=10,\n",
    "    batch_size=128,\n",
    "    validation_split=0.2)\n",
    "\n",
    "model = get_model()\n",
    "history_zeros = model.fit(\n",
    "    train_images_with_zeros_channels, train_labels,\n",
    "    epochs=10,\n",
    "    batch_size=128,\n",
    "    validation_split=0.2)"
   ]
  },
  {
   "cell_type": "markdown",
   "id": "f19a516e",
   "metadata": {},
   "source": [
    "### **<font color=\"blue\">Plotting a validation accuracy comparison</font>**"
   ]
  },
  {
   "cell_type": "code",
   "execution_count": 4,
   "id": "52ee678d",
   "metadata": {},
   "outputs": [
    {
     "data": {
      "text/plain": [
       "<matplotlib.legend.Legend at 0x2af30ae5a60>"
      ]
     },
     "execution_count": 4,
     "metadata": {},
     "output_type": "execute_result"
    },
    {
     "data": {
      "image/png": "[encoded data removed]",
      "text/plain": [
       "<Figure size 432x288 with 1 Axes>"
      ]
     },
     "metadata": {
      "needs_background": "light"
     },
     "output_type": "display_data"
    }
   ],
   "source": [
    "import matplotlib.pyplot as plt\n",
    "val_acc_noise = history_noise.history[\"val_accuracy\"]\n",
    "val_acc_zeros = history_zeros.history[\"val_accuracy\"]\n",
    "epochs = range(1, 11)\n",
    "plt.plot(epochs, val_acc_noise, \"b-\",\n",
    "         label=\"Validation accuracy with noise channels\")\n",
    "plt.plot(epochs, val_acc_zeros, \"b--\",\n",
    "         label=\"Validation accuracy with zeros channels\")\n",
    "plt.title(\"Effect of noise channels on validation accuracy\")\n",
    "plt.xlabel(\"Epochs\")\n",
    "plt.ylabel(\"Accuracy\")\n",
    "plt.legend()"
   ]
  },
  {
   "cell_type": "markdown",
   "id": "43228598",
   "metadata": {},
   "source": [
    "  # **<font color=\"red\">The nature of generalization in deep learning</font>**"
   ]
  },
  {
   "cell_type": "markdown",
   "id": "0b399c64",
   "metadata": {},
   "source": [
    "### **<font color=\"blue\">Fitting a MNIST model with randomly shuffled labels</font>**"
   ]
  },
  {
   "cell_type": "code",
   "execution_count": 5,
   "id": "fa0201df",
   "metadata": {},
   "outputs": [
    {
     "name": "stdout",
     "output_type": "stream",
     "text": [
      "Epoch 1/100\n",
      "375/375 [==============================] - 3s 6ms/step - loss: 2.3173 - accuracy: 0.1031 - val_loss: 2.3076 - val_accuracy: 0.1071\n",
      "Epoch 2/100\n",
      "375/375 [==============================] - 2s 5ms/step - loss: 2.2997 - accuracy: 0.1177 - val_loss: 2.3123 - val_accuracy: 0.1037\n",
      "Epoch 3/100\n",
      "375/375 [==============================] - 2s 6ms/step - loss: 2.2901 - accuracy: 0.1287 - val_loss: 2.3289 - val_accuracy: 0.1010\n",
      "Epoch 4/100\n",
      "375/375 [==============================] - 2s 6ms/step - loss: 2.2764 - accuracy: 0.1418 - val_loss: 2.3301 - val_accuracy: 0.1009\n",
      "Epoch 5/100\n",
      "375/375 [==============================] - 2s 6ms/step - loss: 2.2595 - accuracy: 0.1550 - val_loss: 2.3419 - val_accuracy: 0.1018\n",
      "Epoch 6/100\n",
      "375/375 [==============================] - 2s 6ms/step - loss: 2.2377 - accuracy: 0.1694 - val_loss: 2.3544 - val_accuracy: 0.0981\n",
      "Epoch 7/100\n",
      "375/375 [==============================] - 2s 6ms/step - loss: 2.2148 - accuracy: 0.1816 - val_loss: 2.3661 - val_accuracy: 0.1043\n",
      "Epoch 8/100\n",
      "375/375 [==============================] - 2s 6ms/step - loss: 2.1872 - accuracy: 0.2009 - val_loss: 2.3867 - val_accuracy: 0.1063\n",
      "Epoch 9/100\n",
      "375/375 [==============================] - 2s 6ms/step - loss: 2.1597 - accuracy: 0.2153 - val_loss: 2.4066 - val_accuracy: 0.1025\n",
      "Epoch 10/100\n",
      "375/375 [==============================] - 2s 6ms/step - loss: 2.1277 - accuracy: 0.2291 - val_loss: 2.4250 - val_accuracy: 0.1025\n",
      "Epoch 11/100\n",
      "375/375 [==============================] - 2s 6ms/step - loss: 2.0967 - accuracy: 0.2446 - val_loss: 2.4393 - val_accuracy: 0.1000\n",
      "Epoch 12/100\n",
      "375/375 [==============================] - 2s 6ms/step - loss: 2.0622 - accuracy: 0.2594 - val_loss: 2.4708 - val_accuracy: 0.1041\n",
      "Epoch 13/100\n",
      "375/375 [==============================] - 2s 6ms/step - loss: 2.0292 - accuracy: 0.2760 - val_loss: 2.5079 - val_accuracy: 0.1038\n",
      "Epoch 14/100\n",
      "375/375 [==============================] - 2s 6ms/step - loss: 1.9946 - accuracy: 0.2930 - val_loss: 2.5368 - val_accuracy: 0.1008\n",
      "Epoch 15/100\n",
      "375/375 [==============================] - 2s 6ms/step - loss: 1.9586 - accuracy: 0.3065 - val_loss: 2.5653 - val_accuracy: 0.1018\n",
      "Epoch 16/100\n",
      "375/375 [==============================] - 2s 6ms/step - loss: 1.9251 - accuracy: 0.3223 - val_loss: 2.5990 - val_accuracy: 0.0980\n",
      "Epoch 17/100\n",
      "375/375 [==============================] - 2s 6ms/step - loss: 1.8905 - accuracy: 0.3336 - val_loss: 2.6222 - val_accuracy: 0.1009\n",
      "Epoch 18/100\n",
      "375/375 [==============================] - 2s 6ms/step - loss: 1.8597 - accuracy: 0.3487 - val_loss: 2.6490 - val_accuracy: 0.1031\n",
      "Epoch 19/100\n",
      "375/375 [==============================] - 2s 6ms/step - loss: 1.8256 - accuracy: 0.3620 - val_loss: 2.7003 - val_accuracy: 0.1008\n",
      "Epoch 20/100\n",
      "375/375 [==============================] - 2s 6ms/step - loss: 1.7929 - accuracy: 0.3755 - val_loss: 2.7345 - val_accuracy: 0.0974\n",
      "Epoch 21/100\n",
      "375/375 [==============================] - 2s 6ms/step - loss: 1.7594 - accuracy: 0.3880 - val_loss: 2.7656 - val_accuracy: 0.1058\n",
      "Epoch 22/100\n",
      "375/375 [==============================] - 2s 6ms/step - loss: 1.7307 - accuracy: 0.3997 - val_loss: 2.7886 - val_accuracy: 0.0981\n",
      "Epoch 23/100\n",
      "375/375 [==============================] - 2s 6ms/step - loss: 1.7012 - accuracy: 0.4119 - val_loss: 2.8581 - val_accuracy: 0.1014\n",
      "Epoch 24/100\n",
      "375/375 [==============================] - 2s 6ms/step - loss: 1.6694 - accuracy: 0.4234 - val_loss: 2.8775 - val_accuracy: 0.1047\n",
      "Epoch 25/100\n",
      "375/375 [==============================] - 2s 6ms/step - loss: 1.6420 - accuracy: 0.4344 - val_loss: 2.9138 - val_accuracy: 0.1011\n",
      "Epoch 26/100\n",
      "375/375 [==============================] - 2s 6ms/step - loss: 1.6138 - accuracy: 0.4429 - val_loss: 2.9588 - val_accuracy: 0.0973\n",
      "Epoch 27/100\n",
      "375/375 [==============================] - 2s 6ms/step - loss: 1.5858 - accuracy: 0.4557 - val_loss: 2.9954 - val_accuracy: 0.1037\n",
      "Epoch 28/100\n",
      "375/375 [==============================] - 2s 6ms/step - loss: 1.5578 - accuracy: 0.4633 - val_loss: 3.0551 - val_accuracy: 0.0997\n",
      "Epoch 29/100\n",
      "375/375 [==============================] - 2s 6ms/step - loss: 1.5309 - accuracy: 0.4759 - val_loss: 3.0836 - val_accuracy: 0.1065\n",
      "Epoch 30/100\n",
      "375/375 [==============================] - 2s 6ms/step - loss: 1.5062 - accuracy: 0.4843 - val_loss: 3.1160 - val_accuracy: 0.0993\n",
      "Epoch 31/100\n",
      "375/375 [==============================] - 2s 6ms/step - loss: 1.4787 - accuracy: 0.4939 - val_loss: 3.1882 - val_accuracy: 0.1010\n",
      "Epoch 32/100\n",
      "375/375 [==============================] - 2s 6ms/step - loss: 1.4553 - accuracy: 0.5014 - val_loss: 3.1941 - val_accuracy: 0.1002\n",
      "Epoch 33/100\n",
      "375/375 [==============================] - 2s 6ms/step - loss: 1.4299 - accuracy: 0.5117 - val_loss: 3.2642 - val_accuracy: 0.1004\n",
      "Epoch 34/100\n",
      "375/375 [==============================] - 2s 6ms/step - loss: 1.4081 - accuracy: 0.5218 - val_loss: 3.2989 - val_accuracy: 0.1033\n",
      "Epoch 35/100\n",
      "375/375 [==============================] - 2s 6ms/step - loss: 1.3823 - accuracy: 0.5312 - val_loss: 3.3528 - val_accuracy: 0.1012\n",
      "Epoch 36/100\n",
      "375/375 [==============================] - 2s 6ms/step - loss: 1.3602 - accuracy: 0.5369 - val_loss: 3.4191 - val_accuracy: 0.1006\n",
      "Epoch 37/100\n",
      "375/375 [==============================] - 2s 6ms/step - loss: 1.3366 - accuracy: 0.5464 - val_loss: 3.4309 - val_accuracy: 0.1005\n",
      "Epoch 38/100\n",
      "375/375 [==============================] - 2s 6ms/step - loss: 1.3168 - accuracy: 0.5550 - val_loss: 3.5349 - val_accuracy: 0.0968\n",
      "Epoch 39/100\n",
      "375/375 [==============================] - 2s 6ms/step - loss: 1.2938 - accuracy: 0.5628 - val_loss: 3.5672 - val_accuracy: 0.1035\n",
      "Epoch 40/100\n",
      "375/375 [==============================] - 2s 6ms/step - loss: 1.2711 - accuracy: 0.5724 - val_loss: 3.5958 - val_accuracy: 0.1033\n",
      "Epoch 41/100\n",
      "375/375 [==============================] - 2s 6ms/step - loss: 1.2540 - accuracy: 0.5765 - val_loss: 3.6625 - val_accuracy: 0.1007\n",
      "Epoch 42/100\n",
      "375/375 [==============================] - 2s 6ms/step - loss: 1.2340 - accuracy: 0.5826 - val_loss: 3.6838 - val_accuracy: 0.1007\n",
      "Epoch 43/100\n",
      "375/375 [==============================] - 2s 6ms/step - loss: 1.2131 - accuracy: 0.5882 - val_loss: 3.7930 - val_accuracy: 0.1008\n",
      "Epoch 44/100\n",
      "375/375 [==============================] - 2s 6ms/step - loss: 1.1932 - accuracy: 0.5975 - val_loss: 3.8154 - val_accuracy: 0.0979\n",
      "Epoch 45/100\n",
      "375/375 [==============================] - 2s 6ms/step - loss: 1.1754 - accuracy: 0.6032 - val_loss: 3.8522 - val_accuracy: 0.0992\n",
      "Epoch 46/100\n",
      "375/375 [==============================] - 2s 6ms/step - loss: 1.1561 - accuracy: 0.6100 - val_loss: 3.9106 - val_accuracy: 0.0991\n",
      "Epoch 47/100\n",
      "375/375 [==============================] - 2s 6ms/step - loss: 1.1388 - accuracy: 0.6176 - val_loss: 3.9897 - val_accuracy: 0.1022\n",
      "Epoch 48/100\n",
      "375/375 [==============================] - 2s 6ms/step - loss: 1.1200 - accuracy: 0.6255 - val_loss: 4.0078 - val_accuracy: 0.1016\n",
      "Epoch 49/100\n",
      "375/375 [==============================] - 2s 6ms/step - loss: 1.1032 - accuracy: 0.6289 - val_loss: 4.0411 - val_accuracy: 0.1007\n",
      "Epoch 50/100\n",
      "375/375 [==============================] - 2s 6ms/step - loss: 1.0851 - accuracy: 0.6346 - val_loss: 4.1359 - val_accuracy: 0.1018\n",
      "Epoch 51/100\n",
      "375/375 [==============================] - 2s 6ms/step - loss: 1.0698 - accuracy: 0.6436 - val_loss: 4.1747 - val_accuracy: 0.1028\n",
      "Epoch 52/100\n",
      "375/375 [==============================] - 2s 6ms/step - loss: 1.0531 - accuracy: 0.6486 - val_loss: 4.2312 - val_accuracy: 0.0997\n",
      "Epoch 53/100\n",
      "375/375 [==============================] - 2s 6ms/step - loss: 1.0358 - accuracy: 0.6538 - val_loss: 4.3167 - val_accuracy: 0.0997\n",
      "Epoch 54/100\n",
      "375/375 [==============================] - 2s 6ms/step - loss: 1.0214 - accuracy: 0.6568 - val_loss: 4.3686 - val_accuracy: 0.1042\n",
      "Epoch 55/100\n",
      "375/375 [==============================] - 2s 6ms/step - loss: 1.0036 - accuracy: 0.6660 - val_loss: 4.3935 - val_accuracy: 0.0993\n",
      "Epoch 56/100\n",
      "375/375 [==============================] - 2s 6ms/step - loss: 0.9907 - accuracy: 0.6684 - val_loss: 4.4471 - val_accuracy: 0.1003\n",
      "Epoch 57/100\n",
      "375/375 [==============================] - 2s 6ms/step - loss: 0.9752 - accuracy: 0.6770 - val_loss: 4.5095 - val_accuracy: 0.0988\n",
      "Epoch 58/100\n",
      "375/375 [==============================] - 2s 6ms/step - loss: 0.9599 - accuracy: 0.6800 - val_loss: 4.5682 - val_accuracy: 0.0978\n",
      "Epoch 59/100\n",
      "375/375 [==============================] - 2s 6ms/step - loss: 0.9475 - accuracy: 0.6844 - val_loss: 4.6445 - val_accuracy: 0.1028\n",
      "Epoch 60/100\n",
      "375/375 [==============================] - 2s 6ms/step - loss: 0.9331 - accuracy: 0.6894 - val_loss: 4.6881 - val_accuracy: 0.1059\n",
      "Epoch 61/100\n",
      "375/375 [==============================] - 2s 6ms/step - loss: 0.9174 - accuracy: 0.6960 - val_loss: 4.7662 - val_accuracy: 0.1029\n",
      "Epoch 62/100\n",
      "375/375 [==============================] - 2s 6ms/step - loss: 0.9040 - accuracy: 0.7001 - val_loss: 4.7942 - val_accuracy: 0.1032\n",
      "Epoch 63/100\n",
      "375/375 [==============================] - 2s 6ms/step - loss: 0.8936 - accuracy: 0.7044 - val_loss: 4.8786 - val_accuracy: 0.1020\n",
      "Epoch 64/100\n",
      "375/375 [==============================] - 2s 6ms/step - loss: 0.8787 - accuracy: 0.7082 - val_loss: 4.9178 - val_accuracy: 0.1015\n",
      "Epoch 65/100\n",
      "375/375 [==============================] - 2s 6ms/step - loss: 0.8655 - accuracy: 0.7136 - val_loss: 4.9599 - val_accuracy: 0.1011\n",
      "Epoch 66/100\n",
      "375/375 [==============================] - 2s 6ms/step - loss: 0.8523 - accuracy: 0.7173 - val_loss: 5.0213 - val_accuracy: 0.1040\n",
      "Epoch 67/100\n",
      "375/375 [==============================] - 2s 6ms/step - loss: 0.8393 - accuracy: 0.7259 - val_loss: 5.1008 - val_accuracy: 0.1032\n",
      "Epoch 68/100\n",
      "375/375 [==============================] - 2s 6ms/step - loss: 0.8304 - accuracy: 0.7249 - val_loss: 5.1535 - val_accuracy: 0.1042\n",
      "Epoch 69/100\n",
      "375/375 [==============================] - 2s 6ms/step - loss: 0.8157 - accuracy: 0.7326 - val_loss: 5.2098 - val_accuracy: 0.1017\n",
      "Epoch 70/100\n",
      "375/375 [==============================] - 2s 6ms/step - loss: 0.8063 - accuracy: 0.7363 - val_loss: 5.2554 - val_accuracy: 0.0952\n",
      "Epoch 71/100\n",
      "375/375 [==============================] - 2s 6ms/step - loss: 0.7942 - accuracy: 0.7380 - val_loss: 5.3321 - val_accuracy: 0.1005\n",
      "Epoch 72/100\n",
      "375/375 [==============================] - 2s 6ms/step - loss: 0.7808 - accuracy: 0.7420 - val_loss: 5.3836 - val_accuracy: 0.0988\n",
      "Epoch 73/100\n",
      "375/375 [==============================] - 2s 6ms/step - loss: 0.7713 - accuracy: 0.7485 - val_loss: 5.4961 - val_accuracy: 0.0995\n",
      "Epoch 74/100\n",
      "375/375 [==============================] - 2s 6ms/step - loss: 0.7602 - accuracy: 0.7513 - val_loss: 5.5372 - val_accuracy: 0.0983\n",
      "Epoch 75/100\n",
      "375/375 [==============================] - 2s 6ms/step - loss: 0.7495 - accuracy: 0.7537 - val_loss: 5.5632 - val_accuracy: 0.0966\n",
      "Epoch 76/100\n",
      "375/375 [==============================] - 2s 6ms/step - loss: 0.7371 - accuracy: 0.7591 - val_loss: 5.6432 - val_accuracy: 0.1005\n",
      "Epoch 77/100\n",
      "375/375 [==============================] - 2s 6ms/step - loss: 0.7258 - accuracy: 0.7637 - val_loss: 5.6860 - val_accuracy: 0.1022\n",
      "Epoch 78/100\n",
      "375/375 [==============================] - 2s 6ms/step - loss: 0.7166 - accuracy: 0.7670 - val_loss: 5.7625 - val_accuracy: 0.1036\n",
      "Epoch 79/100\n",
      "375/375 [==============================] - 2s 6ms/step - loss: 0.7076 - accuracy: 0.7697 - val_loss: 5.8286 - val_accuracy: 0.0994\n",
      "Epoch 80/100\n",
      "375/375 [==============================] - 2s 6ms/step - loss: 0.6973 - accuracy: 0.7724 - val_loss: 5.8764 - val_accuracy: 0.0995\n",
      "Epoch 81/100\n",
      "375/375 [==============================] - 2s 6ms/step - loss: 0.6871 - accuracy: 0.7774 - val_loss: 5.9992 - val_accuracy: 0.1018\n",
      "Epoch 82/100\n",
      "375/375 [==============================] - 2s 6ms/step - loss: 0.6777 - accuracy: 0.7793 - val_loss: 6.0173 - val_accuracy: 0.1016\n",
      "Epoch 83/100\n",
      "375/375 [==============================] - 2s 6ms/step - loss: 0.6674 - accuracy: 0.7845 - val_loss: 6.0856 - val_accuracy: 0.0996\n",
      "Epoch 84/100\n",
      "375/375 [==============================] - 2s 6ms/step - loss: 0.6560 - accuracy: 0.7892 - val_loss: 6.1487 - val_accuracy: 0.1010\n",
      "Epoch 85/100\n",
      "375/375 [==============================] - 2s 6ms/step - loss: 0.6516 - accuracy: 0.7882 - val_loss: 6.2124 - val_accuracy: 0.1014\n",
      "Epoch 86/100\n",
      "375/375 [==============================] - 2s 6ms/step - loss: 0.6410 - accuracy: 0.7936 - val_loss: 6.2799 - val_accuracy: 0.1000\n",
      "Epoch 87/100\n",
      "375/375 [==============================] - 2s 6ms/step - loss: 0.6316 - accuracy: 0.7950 - val_loss: 6.3546 - val_accuracy: 0.0990\n",
      "Epoch 88/100\n",
      "375/375 [==============================] - 2s 6ms/step - loss: 0.6219 - accuracy: 0.7988 - val_loss: 6.3740 - val_accuracy: 0.0994\n",
      "Epoch 89/100\n",
      "375/375 [==============================] - 2s 6ms/step - loss: 0.6153 - accuracy: 0.7995 - val_loss: 6.4509 - val_accuracy: 0.1010\n",
      "Epoch 90/100\n",
      "375/375 [==============================] - 2s 6ms/step - loss: 0.6048 - accuracy: 0.8029 - val_loss: 6.5473 - val_accuracy: 0.1003\n",
      "Epoch 91/100\n",
      "375/375 [==============================] - 2s 6ms/step - loss: 0.5976 - accuracy: 0.8067 - val_loss: 6.6326 - val_accuracy: 0.0977\n",
      "Epoch 92/100\n",
      "375/375 [==============================] - 2s 6ms/step - loss: 0.5911 - accuracy: 0.8087 - val_loss: 6.6255 - val_accuracy: 0.0993\n",
      "Epoch 93/100\n",
      "375/375 [==============================] - 2s 6ms/step - loss: 0.5811 - accuracy: 0.8128 - val_loss: 6.7403 - val_accuracy: 0.0983\n",
      "Epoch 94/100\n",
      "375/375 [==============================] - 2s 6ms/step - loss: 0.5739 - accuracy: 0.8140 - val_loss: 6.7911 - val_accuracy: 0.1043\n",
      "Epoch 95/100\n",
      "375/375 [==============================] - 2s 6ms/step - loss: 0.5639 - accuracy: 0.8185 - val_loss: 6.8364 - val_accuracy: 0.0984\n",
      "Epoch 96/100\n",
      "375/375 [==============================] - 2s 6ms/step - loss: 0.5572 - accuracy: 0.8197 - val_loss: 6.8903 - val_accuracy: 0.0998\n",
      "Epoch 97/100\n",
      "375/375 [==============================] - 2s 6ms/step - loss: 0.5514 - accuracy: 0.8242 - val_loss: 6.9518 - val_accuracy: 0.1028\n",
      "Epoch 98/100\n",
      "375/375 [==============================] - 2s 6ms/step - loss: 0.5427 - accuracy: 0.8250 - val_loss: 7.0093 - val_accuracy: 0.1028\n",
      "Epoch 99/100\n",
      "375/375 [==============================] - 2s 6ms/step - loss: 0.5351 - accuracy: 0.8278 - val_loss: 7.0921 - val_accuracy: 0.1000\n",
      "Epoch 100/100\n",
      "375/375 [==============================] - 2s 6ms/step - loss: 0.5287 - accuracy: 0.8296 - val_loss: 7.1738 - val_accuracy: 0.1007\n"
     ]
    },
    {
     "data": {
      "text/plain": [
       "<keras.callbacks.History at 0x2af30c00910>"
      ]
     },
     "execution_count": 5,
     "metadata": {},
     "output_type": "execute_result"
    }
   ],
   "source": [
    "(train_images, train_labels), _ = mnist.load_data()\n",
    "train_images = train_images.reshape((60000, 28 * 28))\n",
    "train_images = train_images.astype(\"float32\") / 255\n",
    "\n",
    "random_train_labels = train_labels[:]\n",
    "np.random.shuffle(random_train_labels)\n",
    "\n",
    "model = keras.Sequential([\n",
    "    layers.Dense(512, activation=\"relu\"),\n",
    "    layers.Dense(10, activation=\"softmax\")\n",
    "])\n",
    "model.compile(optimizer=\"rmsprop\",\n",
    "              loss=\"sparse_categorical_crossentropy\",\n",
    "              metrics=[\"accuracy\"])\n",
    "model.fit(train_images, random_train_labels,\n",
    "          epochs=100,\n",
    "          batch_size=128,\n",
    "          validation_split=0.2)"
   ]
  },
  {
   "cell_type": "markdown",
   "id": "a7665d96",
   "metadata": {},
   "source": [
    "# **<font color=\"red\">Improving model fit</font>**"
   ]
  },
  {
   "cell_type": "markdown",
   "id": "878add87",
   "metadata": {},
   "source": [
    "## **<font color=\"blue\">Tuning key gradient descent parameters</font>**"
   ]
  },
  {
   "cell_type": "markdown",
   "id": "447ca056",
   "metadata": {},
   "source": [
    "### **<font color=\"blue\">Training a MNIST model with an incorrectly high learning rate</font>**"
   ]
  },
  {
   "cell_type": "code",
   "execution_count": 7,
   "id": "c0ef04e2",
   "metadata": {},
   "outputs": [
    {
     "name": "stdout",
     "output_type": "stream",
     "text": [
      "Epoch 1/10\n",
      "375/375 [==============================] - 3s 6ms/step - loss: 804.7100 - accuracy: 0.3664 - val_loss: 2.5987 - val_accuracy: 0.2689\n",
      "Epoch 2/10\n",
      "375/375 [==============================] - 2s 6ms/step - loss: 3.7121 - accuracy: 0.2483 - val_loss: 2.3449 - val_accuracy: 0.2263\n",
      "Epoch 3/10\n",
      "375/375 [==============================] - 2s 6ms/step - loss: 2.6865 - accuracy: 0.2137 - val_loss: 3.0833 - val_accuracy: 0.2702\n",
      "Epoch 4/10\n",
      "375/375 [==============================] - 2s 6ms/step - loss: 2.7910 - accuracy: 0.2843 - val_loss: 2.4652 - val_accuracy: 0.2173\n",
      "Epoch 5/10\n",
      "375/375 [==============================] - 2s 6ms/step - loss: 3.1545 - accuracy: 0.2523 - val_loss: 2.4380 - val_accuracy: 0.2903\n",
      "Epoch 6/10\n",
      "375/375 [==============================] - 2s 6ms/step - loss: 2.6909 - accuracy: 0.2579 - val_loss: 2.2995 - val_accuracy: 0.2506\n",
      "Epoch 7/10\n",
      "375/375 [==============================] - 2s 5ms/step - loss: 2.9140 - accuracy: 0.2523 - val_loss: 2.0732 - val_accuracy: 0.2707\n",
      "Epoch 8/10\n",
      "375/375 [==============================] - 2s 6ms/step - loss: 2.5108 - accuracy: 0.2592 - val_loss: 2.6582 - val_accuracy: 0.2850\n",
      "Epoch 9/10\n",
      "375/375 [==============================] - 2s 6ms/step - loss: 2.3711 - accuracy: 0.2644 - val_loss: 3.5638 - val_accuracy: 0.2416\n",
      "Epoch 10/10\n",
      "375/375 [==============================] - 2s 6ms/step - loss: 2.2520 - accuracy: 0.2710 - val_loss: 3.2010 - val_accuracy: 0.2946\n"
     ]
    },
    {
     "data": {
      "text/plain": [
       "<keras.callbacks.History at 0x2af274491c0>"
      ]
     },
     "execution_count": 7,
     "metadata": {},
     "output_type": "execute_result"
    }
   ],
   "source": [
    "(train_images, train_labels), _ = mnist.load_data()\n",
    "train_images = train_images.reshape((60000, 28 * 28))\n",
    "train_images = train_images.astype(\"float32\") / 255\n",
    "\n",
    "model = keras.Sequential([\n",
    "    layers.Dense(512, activation=\"relu\"),\n",
    "    layers.Dense(10, activation=\"softmax\")\n",
    "])\n",
    "model.compile(optimizer=keras.optimizers.RMSprop(1.),\n",
    "              loss=\"sparse_categorical_crossentropy\",\n",
    "              metrics=[\"accuracy\"])\n",
    "model.fit(train_images, train_labels,\n",
    "          epochs=10,\n",
    "          batch_size=128,\n",
    "          validation_split=0.2)"
   ]
  },
  {
   "cell_type": "markdown",
   "id": "d2f21f39",
   "metadata": {},
   "source": [
    "### **<font color=\"blue\">The same model with a more appropriate learning rate</font>**"
   ]
  },
  {
   "cell_type": "code",
   "execution_count": 8,
   "id": "5d91a692",
   "metadata": {},
   "outputs": [
    {
     "name": "stdout",
     "output_type": "stream",
     "text": [
      "Epoch 1/10\n",
      "375/375 [==============================] - 3s 6ms/step - loss: 0.3451 - accuracy: 0.9137 - val_loss: 0.1877 - val_accuracy: 0.9566\n",
      "Epoch 2/10\n",
      "375/375 [==============================] - 2s 6ms/step - loss: 0.1422 - accuracy: 0.9636 - val_loss: 0.1537 - val_accuracy: 0.9658\n",
      "Epoch 3/10\n",
      "375/375 [==============================] - 2s 6ms/step - loss: 0.1149 - accuracy: 0.9735 - val_loss: 0.2436 - val_accuracy: 0.9605\n",
      "Epoch 4/10\n",
      "375/375 [==============================] - 2s 6ms/step - loss: 0.0980 - accuracy: 0.9783 - val_loss: 0.1891 - val_accuracy: 0.9699\n",
      "Epoch 5/10\n",
      "375/375 [==============================] - 2s 6ms/step - loss: 0.0893 - accuracy: 0.9812 - val_loss: 0.2155 - val_accuracy: 0.9714\n",
      "Epoch 6/10\n",
      "375/375 [==============================] - 2s 6ms/step - loss: 0.0799 - accuracy: 0.9843 - val_loss: 0.2139 - val_accuracy: 0.9712\n",
      "Epoch 7/10\n",
      "375/375 [==============================] - 2s 6ms/step - loss: 0.0676 - accuracy: 0.9864 - val_loss: 0.2421 - val_accuracy: 0.9713\n",
      "Epoch 8/10\n",
      "375/375 [==============================] - 2s 6ms/step - loss: 0.0641 - accuracy: 0.9880 - val_loss: 0.2592 - val_accuracy: 0.9737\n",
      "Epoch 9/10\n",
      "375/375 [==============================] - 2s 6ms/step - loss: 0.0545 - accuracy: 0.9902 - val_loss: 0.2562 - val_accuracy: 0.9746\n",
      "Epoch 10/10\n",
      "375/375 [==============================] - 2s 6ms/step - loss: 0.0565 - accuracy: 0.9903 - val_loss: 0.2908 - val_accuracy: 0.9727\n"
     ]
    },
    {
     "data": {
      "text/plain": [
       "<keras.callbacks.History at 0x2af27430190>"
      ]
     },
     "execution_count": 8,
     "metadata": {},
     "output_type": "execute_result"
    }
   ],
   "source": [
    "model = keras.Sequential([\n",
    "    layers.Dense(512, activation=\"relu\"),\n",
    "    layers.Dense(10, activation=\"softmax\")\n",
    "])\n",
    "model.compile(optimizer=keras.optimizers.RMSprop(1e-2),\n",
    "              loss=\"sparse_categorical_crossentropy\",\n",
    "              metrics=[\"accuracy\"])\n",
    "model.fit(train_images, train_labels,\n",
    "          epochs=10,\n",
    "          batch_size=128,\n",
    "          validation_split=0.2)"
   ]
  },
  {
   "cell_type": "markdown",
   "id": "8aa917df",
   "metadata": {},
   "source": [
    "### **<font color=\"black\">Leveraging better architecture priors</font>**"
   ]
  },
  {
   "cell_type": "markdown",
   "id": "02b500a9",
   "metadata": {},
   "source": [
    "# **<font color=\"red\">Increasing model capacity</font>**"
   ]
  },
  {
   "cell_type": "markdown",
   "id": "0d19f20f",
   "metadata": {},
   "source": [
    "## **<font color=\"blue\">A simple logistic regression on MNIST</font>**"
   ]
  },
  {
   "cell_type": "code",
   "execution_count": 9,
   "id": "08c6e727",
   "metadata": {},
   "outputs": [
    {
     "name": "stdout",
     "output_type": "stream",
     "text": [
      "Epoch 1/20\n",
      "375/375 [==============================] - 1s 2ms/step - loss: 0.6635 - accuracy: 0.8380 - val_loss: 0.3589 - val_accuracy: 0.9028\n",
      "Epoch 2/20\n",
      "375/375 [==============================] - 1s 2ms/step - loss: 0.3511 - accuracy: 0.9035 - val_loss: 0.3084 - val_accuracy: 0.9143\n",
      "Epoch 3/20\n",
      "375/375 [==============================] - 1s 2ms/step - loss: 0.3154 - accuracy: 0.9120 - val_loss: 0.2903 - val_accuracy: 0.9206\n",
      "Epoch 4/20\n",
      "375/375 [==============================] - 1s 2ms/step - loss: 0.2991 - accuracy: 0.9160 - val_loss: 0.2807 - val_accuracy: 0.9222\n",
      "Epoch 5/20\n",
      "375/375 [==============================] - 1s 2ms/step - loss: 0.2893 - accuracy: 0.9194 - val_loss: 0.2763 - val_accuracy: 0.9227\n",
      "Epoch 6/20\n",
      "375/375 [==============================] - 1s 2ms/step - loss: 0.2829 - accuracy: 0.9205 - val_loss: 0.2731 - val_accuracy: 0.9243\n",
      "Epoch 7/20\n",
      "375/375 [==============================] - 1s 2ms/step - loss: 0.2782 - accuracy: 0.9223 - val_loss: 0.2721 - val_accuracy: 0.9237\n",
      "Epoch 8/20\n",
      "375/375 [==============================] - 1s 1ms/step - loss: 0.2743 - accuracy: 0.9236 - val_loss: 0.2687 - val_accuracy: 0.9263\n",
      "Epoch 9/20\n",
      "375/375 [==============================] - 1s 2ms/step - loss: 0.2716 - accuracy: 0.9249 - val_loss: 0.2663 - val_accuracy: 0.9278\n",
      "Epoch 10/20\n",
      "375/375 [==============================] - 1s 2ms/step - loss: 0.2687 - accuracy: 0.9250 - val_loss: 0.2655 - val_accuracy: 0.9279\n",
      "Epoch 11/20\n",
      "375/375 [==============================] - 1s 1ms/step - loss: 0.2664 - accuracy: 0.9259 - val_loss: 0.2652 - val_accuracy: 0.9291\n",
      "Epoch 12/20\n",
      "375/375 [==============================] - 1s 2ms/step - loss: 0.2648 - accuracy: 0.9263 - val_loss: 0.2636 - val_accuracy: 0.9283\n",
      "Epoch 13/20\n",
      "375/375 [==============================] - 1s 2ms/step - loss: 0.2634 - accuracy: 0.9275 - val_loss: 0.2635 - val_accuracy: 0.9292\n",
      "Epoch 14/20\n",
      "375/375 [==============================] - 1s 2ms/step - loss: 0.2619 - accuracy: 0.9275 - val_loss: 0.2613 - val_accuracy: 0.9299\n",
      "Epoch 15/20\n",
      "375/375 [==============================] - 1s 2ms/step - loss: 0.2603 - accuracy: 0.9282 - val_loss: 0.2630 - val_accuracy: 0.9301\n",
      "Epoch 16/20\n",
      "375/375 [==============================] - 1s 2ms/step - loss: 0.2592 - accuracy: 0.9286 - val_loss: 0.2628 - val_accuracy: 0.9291\n",
      "Epoch 17/20\n",
      "375/375 [==============================] - 1s 2ms/step - loss: 0.2584 - accuracy: 0.9288 - val_loss: 0.2615 - val_accuracy: 0.9302\n",
      "Epoch 18/20\n",
      "375/375 [==============================] - 1s 1ms/step - loss: 0.2572 - accuracy: 0.9297 - val_loss: 0.2610 - val_accuracy: 0.9303\n",
      "Epoch 19/20\n",
      "375/375 [==============================] - 1s 2ms/step - loss: 0.2565 - accuracy: 0.9299 - val_loss: 0.2619 - val_accuracy: 0.9303\n",
      "Epoch 20/20\n",
      "375/375 [==============================] - 1s 2ms/step - loss: 0.2553 - accuracy: 0.9310 - val_loss: 0.2610 - val_accuracy: 0.9312\n"
     ]
    }
   ],
   "source": [
    "model = keras.Sequential([layers.Dense(10, activation=\"softmax\")])\n",
    "model.compile(optimizer=\"rmsprop\",\n",
    "              loss=\"sparse_categorical_crossentropy\",\n",
    "              metrics=[\"accuracy\"])\n",
    "history_small_model = model.fit(\n",
    "    train_images, train_labels,\n",
    "    epochs=20,\n",
    "    batch_size=128,\n",
    "    validation_split=0.2)"
   ]
  },
  {
   "cell_type": "code",
   "execution_count": 10,
   "id": "c316e24e",
   "metadata": {},
   "outputs": [
    {
     "data": {
      "text/plain": [
       "<matplotlib.legend.Legend at 0x2af32cf4fa0>"
      ]
     },
     "execution_count": 10,
     "metadata": {},
     "output_type": "execute_result"
    },
    {
     "data": {
      "image/png": "[encoded data removed]",
      "text/plain": [
       "<Figure size 432x288 with 1 Axes>"
      ]
     },
     "metadata": {
      "needs_background": "light"
     },
     "output_type": "display_data"
    }
   ],
   "source": [
    "import matplotlib.pyplot as plt\n",
    "val_loss = history_small_model.history[\"val_loss\"]\n",
    "epochs = range(1, 21)\n",
    "plt.plot(epochs, val_loss, \"b--\",\n",
    "         label=\"Validation loss\")\n",
    "plt.title(\"Effect of insufficient model capacity on validation loss\")\n",
    "plt.xlabel(\"Epochs\")\n",
    "plt.ylabel(\"Loss\")\n",
    "plt.legend()"
   ]
  },
  {
   "cell_type": "code",
   "execution_count": 11,
   "id": "77bd57da",
   "metadata": {},
   "outputs": [
    {
     "name": "stdout",
     "output_type": "stream",
     "text": [
      "Epoch 1/20\n",
      "375/375 [==============================] - 2s 3ms/step - loss: 0.3724 - accuracy: 0.8936 - val_loss: 0.1896 - val_accuracy: 0.9468\n",
      "Epoch 2/20\n",
      "375/375 [==============================] - 1s 3ms/step - loss: 0.1640 - accuracy: 0.9506 - val_loss: 0.1417 - val_accuracy: 0.9570\n",
      "Epoch 3/20\n",
      "375/375 [==============================] - 1s 2ms/step - loss: 0.1153 - accuracy: 0.9659 - val_loss: 0.1199 - val_accuracy: 0.9645\n",
      "Epoch 4/20\n",
      "375/375 [==============================] - 1s 2ms/step - loss: 0.0904 - accuracy: 0.9739 - val_loss: 0.1046 - val_accuracy: 0.9693\n",
      "Epoch 5/20\n",
      "375/375 [==============================] - 1s 2ms/step - loss: 0.0725 - accuracy: 0.9778 - val_loss: 0.1068 - val_accuracy: 0.9703\n",
      "Epoch 6/20\n",
      "375/375 [==============================] - 1s 3ms/step - loss: 0.0599 - accuracy: 0.9825 - val_loss: 0.0945 - val_accuracy: 0.9735\n",
      "Epoch 7/20\n",
      "375/375 [==============================] - 1s 3ms/step - loss: 0.0507 - accuracy: 0.9846 - val_loss: 0.0985 - val_accuracy: 0.9721\n",
      "Epoch 8/20\n",
      "375/375 [==============================] - 1s 2ms/step - loss: 0.0421 - accuracy: 0.9871 - val_loss: 0.0993 - val_accuracy: 0.9739\n",
      "Epoch 9/20\n",
      "375/375 [==============================] - 1s 3ms/step - loss: 0.0355 - accuracy: 0.9891 - val_loss: 0.1053 - val_accuracy: 0.9718\n",
      "Epoch 10/20\n",
      "375/375 [==============================] - 1s 3ms/step - loss: 0.0304 - accuracy: 0.9904 - val_loss: 0.1030 - val_accuracy: 0.9751\n",
      "Epoch 11/20\n",
      "375/375 [==============================] - 1s 3ms/step - loss: 0.0258 - accuracy: 0.9919 - val_loss: 0.1138 - val_accuracy: 0.9722\n",
      "Epoch 12/20\n",
      "375/375 [==============================] - 1s 3ms/step - loss: 0.0220 - accuracy: 0.9933 - val_loss: 0.1109 - val_accuracy: 0.9752\n",
      "Epoch 13/20\n",
      "375/375 [==============================] - 1s 2ms/step - loss: 0.0185 - accuracy: 0.9942 - val_loss: 0.1183 - val_accuracy: 0.9742\n",
      "Epoch 14/20\n",
      "375/375 [==============================] - 1s 2ms/step - loss: 0.0153 - accuracy: 0.9954 - val_loss: 0.1102 - val_accuracy: 0.9755\n",
      "Epoch 15/20\n",
      "375/375 [==============================] - 1s 3ms/step - loss: 0.0141 - accuracy: 0.9956 - val_loss: 0.1130 - val_accuracy: 0.9760\n",
      "Epoch 16/20\n",
      "375/375 [==============================] - 1s 3ms/step - loss: 0.0109 - accuracy: 0.9965 - val_loss: 0.1329 - val_accuracy: 0.9738\n",
      "Epoch 17/20\n",
      "375/375 [==============================] - 1s 3ms/step - loss: 0.0104 - accuracy: 0.9968 - val_loss: 0.1298 - val_accuracy: 0.9754\n",
      "Epoch 18/20\n",
      "375/375 [==============================] - 1s 3ms/step - loss: 0.0086 - accuracy: 0.9976 - val_loss: 0.1262 - val_accuracy: 0.9747\n",
      "Epoch 19/20\n",
      "375/375 [==============================] - 1s 2ms/step - loss: 0.0070 - accuracy: 0.9980 - val_loss: 0.1330 - val_accuracy: 0.9755\n",
      "Epoch 20/20\n",
      "375/375 [==============================] - 1s 3ms/step - loss: 0.0063 - accuracy: 0.9982 - val_loss: 0.1485 - val_accuracy: 0.9743\n"
     ]
    }
   ],
   "source": [
    "model = keras.Sequential([\n",
    "    layers.Dense(96, activation=\"relu\"),\n",
    "    layers.Dense(96, activation=\"relu\"),\n",
    "    layers.Dense(10, activation=\"softmax\"),\n",
    "])\n",
    "model.compile(optimizer=\"rmsprop\",\n",
    "              loss=\"sparse_categorical_crossentropy\",\n",
    "              metrics=[\"accuracy\"])\n",
    "history_large_model = model.fit(\n",
    "    train_images, train_labels,\n",
    "    epochs=20,\n",
    "    batch_size=128,\n",
    "    validation_split=0.2)"
   ]
  },
  {
   "cell_type": "markdown",
   "id": "d8ad6f0d",
   "metadata": {},
   "source": [
    "# **<font color=\"red\">Improving generalization: Dataset curation、Feature engineering、Using early stopping</font>**"
   ]
  },
  {
   "cell_type": "markdown",
   "id": "dfefb28b",
   "metadata": {},
   "source": [
    "## **<font color=\"blue\">Regularizing your model</font>**"
   ]
  },
  {
   "cell_type": "markdown",
   "id": "260b3919",
   "metadata": {},
   "source": [
    "### **<font color=\"blue\">Reducing the network's size</font>**"
   ]
  },
  {
   "cell_type": "markdown",
   "id": "b52be212",
   "metadata": {},
   "source": [
    "#### **<font color=\"blue\">Original model</font>**"
   ]
  },
  {
   "cell_type": "code",
   "execution_count": 13,
   "id": "251fe62a",
   "metadata": {},
   "outputs": [
    {
     "name": "stdout",
     "output_type": "stream",
     "text": [
      "Epoch 1/20\n",
      "30/30 [==============================] - 2s 30ms/step - loss: 0.5397 - accuracy: 0.7837 - val_loss: 0.4132 - val_accuracy: 0.8698\n",
      "Epoch 2/20\n",
      "30/30 [==============================] - 0s 14ms/step - loss: 0.3341 - accuracy: 0.8986 - val_loss: 0.3376 - val_accuracy: 0.8710\n",
      "Epoch 3/20\n",
      "30/30 [==============================] - 0s 11ms/step - loss: 0.2419 - accuracy: 0.9237 - val_loss: 0.2861 - val_accuracy: 0.8894\n",
      "Epoch 4/20\n",
      "30/30 [==============================] - 0s 12ms/step - loss: 0.1883 - accuracy: 0.9407 - val_loss: 0.2724 - val_accuracy: 0.8929\n",
      "Epoch 5/20\n",
      "30/30 [==============================] - 0s 11ms/step - loss: 0.1547 - accuracy: 0.9497 - val_loss: 0.2767 - val_accuracy: 0.8919\n",
      "Epoch 6/20\n",
      "30/30 [==============================] - 0s 11ms/step - loss: 0.1239 - accuracy: 0.9599 - val_loss: 0.2915 - val_accuracy: 0.8866\n",
      "Epoch 7/20\n",
      "30/30 [==============================] - 0s 11ms/step - loss: 0.1011 - accuracy: 0.9707 - val_loss: 0.3535 - val_accuracy: 0.8713\n",
      "Epoch 8/20\n",
      "30/30 [==============================] - 0s 11ms/step - loss: 0.0877 - accuracy: 0.9753 - val_loss: 0.3338 - val_accuracy: 0.8797\n",
      "Epoch 9/20\n",
      "30/30 [==============================] - 0s 12ms/step - loss: 0.0719 - accuracy: 0.9801 - val_loss: 0.3463 - val_accuracy: 0.8823\n",
      "Epoch 10/20\n",
      "30/30 [==============================] - 0s 11ms/step - loss: 0.0587 - accuracy: 0.9858 - val_loss: 0.3732 - val_accuracy: 0.8788\n",
      "Epoch 11/20\n",
      "30/30 [==============================] - 0s 11ms/step - loss: 0.0500 - accuracy: 0.9879 - val_loss: 0.4589 - val_accuracy: 0.8663\n",
      "Epoch 12/20\n",
      "30/30 [==============================] - 0s 11ms/step - loss: 0.0382 - accuracy: 0.9917 - val_loss: 0.4352 - val_accuracy: 0.8713\n",
      "Epoch 13/20\n",
      "30/30 [==============================] - 0s 11ms/step - loss: 0.0334 - accuracy: 0.9927 - val_loss: 0.4617 - val_accuracy: 0.8722\n",
      "Epoch 14/20\n",
      "30/30 [==============================] - 0s 11ms/step - loss: 0.0262 - accuracy: 0.9944 - val_loss: 0.4949 - val_accuracy: 0.8719\n",
      "Epoch 15/20\n",
      "30/30 [==============================] - 0s 12ms/step - loss: 0.0199 - accuracy: 0.9965 - val_loss: 0.5407 - val_accuracy: 0.8683\n",
      "Epoch 16/20\n",
      "30/30 [==============================] - 0s 11ms/step - loss: 0.0180 - accuracy: 0.9962 - val_loss: 0.5675 - val_accuracy: 0.8683\n",
      "Epoch 17/20\n",
      "30/30 [==============================] - 0s 11ms/step - loss: 0.0131 - accuracy: 0.9982 - val_loss: 0.5967 - val_accuracy: 0.8685\n",
      "Epoch 18/20\n",
      "30/30 [==============================] - 0s 11ms/step - loss: 0.0108 - accuracy: 0.9982 - val_loss: 0.6320 - val_accuracy: 0.8665\n",
      "Epoch 19/20\n",
      "30/30 [==============================] - 0s 12ms/step - loss: 0.0061 - accuracy: 0.9995 - val_loss: 0.6687 - val_accuracy: 0.8655\n",
      "Epoch 20/20\n",
      "30/30 [==============================] - 0s 11ms/step - loss: 0.0090 - accuracy: 0.9982 - val_loss: 0.7019 - val_accuracy: 0.8636\n"
     ]
    }
   ],
   "source": [
    "from tensorflow.keras.datasets import imdb\n",
    "(train_data, train_labels), _ = imdb.load_data(num_words=10000)\n",
    "\n",
    "def vectorize_sequences(sequences, dimension=10000):\n",
    "    results = np.zeros((len(sequences), dimension))\n",
    "    for i, sequence in enumerate(sequences):\n",
    "        results[i, sequence] = 1.\n",
    "    return results\n",
    "train_data = vectorize_sequences(train_data)\n",
    "\n",
    "model = keras.Sequential([\n",
    "    layers.Dense(16, activation=\"relu\"),\n",
    "    layers.Dense(16, activation=\"relu\"),\n",
    "    layers.Dense(1, activation=\"sigmoid\")\n",
    "])\n",
    "model.compile(optimizer=\"rmsprop\",\n",
    "              loss=\"binary_crossentropy\",\n",
    "              metrics=[\"accuracy\"])\n",
    "history_original = model.fit(train_data, train_labels,\n",
    "                             epochs=20, batch_size=512, validation_split=0.4)"
   ]
  },
  {
   "cell_type": "markdown",
   "id": "a81c09bc",
   "metadata": {},
   "source": [
    "### **<font color=\"blue\">Version of the model with lower capacity</font>**"
   ]
  },
  {
   "cell_type": "code",
   "execution_count": 14,
   "id": "9aa968fe",
   "metadata": {},
   "outputs": [
    {
     "name": "stdout",
     "output_type": "stream",
     "text": [
      "Epoch 1/20\n",
      "30/30 [==============================] - 1s 23ms/step - loss: 0.5928 - accuracy: 0.7860 - val_loss: 0.5149 - val_accuracy: 0.8433\n",
      "Epoch 2/20\n",
      "30/30 [==============================] - 0s 15ms/step - loss: 0.4494 - accuracy: 0.8824 - val_loss: 0.4179 - val_accuracy: 0.8715\n",
      "Epoch 3/20\n",
      "30/30 [==============================] - 0s 12ms/step - loss: 0.3585 - accuracy: 0.9036 - val_loss: 0.3581 - val_accuracy: 0.8797\n",
      "Epoch 4/20\n",
      "30/30 [==============================] - 0s 12ms/step - loss: 0.2947 - accuracy: 0.9167 - val_loss: 0.3210 - val_accuracy: 0.8853\n",
      "Epoch 5/20\n",
      "30/30 [==============================] - 0s 12ms/step - loss: 0.2486 - accuracy: 0.9262 - val_loss: 0.2972 - val_accuracy: 0.8880\n",
      "Epoch 6/20\n",
      "30/30 [==============================] - 0s 11ms/step - loss: 0.2146 - accuracy: 0.9360 - val_loss: 0.2833 - val_accuracy: 0.8891\n",
      "Epoch 7/20\n",
      "30/30 [==============================] - 0s 11ms/step - loss: 0.1886 - accuracy: 0.9422 - val_loss: 0.2745 - val_accuracy: 0.8932\n",
      "Epoch 8/20\n",
      "30/30 [==============================] - 0s 10ms/step - loss: 0.1669 - accuracy: 0.9486 - val_loss: 0.2723 - val_accuracy: 0.8921\n",
      "Epoch 9/20\n",
      "30/30 [==============================] - 0s 12ms/step - loss: 0.1490 - accuracy: 0.9555 - val_loss: 0.2750 - val_accuracy: 0.8898\n",
      "Epoch 10/20\n",
      "30/30 [==============================] - 0s 11ms/step - loss: 0.1334 - accuracy: 0.9611 - val_loss: 0.2753 - val_accuracy: 0.8901\n",
      "Epoch 11/20\n",
      "30/30 [==============================] - 0s 10ms/step - loss: 0.1199 - accuracy: 0.9653 - val_loss: 0.2811 - val_accuracy: 0.8889\n",
      "Epoch 12/20\n",
      "30/30 [==============================] - 0s 10ms/step - loss: 0.1073 - accuracy: 0.9691 - val_loss: 0.2961 - val_accuracy: 0.8869\n",
      "Epoch 13/20\n",
      "30/30 [==============================] - 0s 11ms/step - loss: 0.0976 - accuracy: 0.9734 - val_loss: 0.2981 - val_accuracy: 0.8870\n",
      "Epoch 14/20\n",
      "30/30 [==============================] - 0s 10ms/step - loss: 0.0874 - accuracy: 0.9762 - val_loss: 0.3091 - val_accuracy: 0.8852\n",
      "Epoch 15/20\n",
      "30/30 [==============================] - 0s 11ms/step - loss: 0.0789 - accuracy: 0.9789 - val_loss: 0.3200 - val_accuracy: 0.8854\n",
      "Epoch 16/20\n",
      "30/30 [==============================] - 0s 11ms/step - loss: 0.0711 - accuracy: 0.9821 - val_loss: 0.3327 - val_accuracy: 0.8824\n",
      "Epoch 17/20\n",
      "30/30 [==============================] - 0s 10ms/step - loss: 0.0638 - accuracy: 0.9854 - val_loss: 0.3492 - val_accuracy: 0.8823\n",
      "Epoch 18/20\n",
      "30/30 [==============================] - 0s 12ms/step - loss: 0.0575 - accuracy: 0.9861 - val_loss: 0.3620 - val_accuracy: 0.8811\n",
      "Epoch 19/20\n",
      "30/30 [==============================] - 0s 13ms/step - loss: 0.0518 - accuracy: 0.9880 - val_loss: 0.3847 - val_accuracy: 0.8782\n",
      "Epoch 20/20\n",
      "30/30 [==============================] - 0s 12ms/step - loss: 0.0464 - accuracy: 0.9895 - val_loss: 0.3916 - val_accuracy: 0.8782\n"
     ]
    }
   ],
   "source": [
    "model = keras.Sequential([\n",
    "    layers.Dense(4, activation=\"relu\"),\n",
    "    layers.Dense(4, activation=\"relu\"),\n",
    "    layers.Dense(1, activation=\"sigmoid\")\n",
    "])\n",
    "model.compile(optimizer=\"rmsprop\",\n",
    "              loss=\"binary_crossentropy\",\n",
    "              metrics=[\"accuracy\"])\n",
    "history_smaller_model = model.fit(\n",
    "    train_data, train_labels,\n",
    "    epochs=20, batch_size=512, validation_split=0.4)"
   ]
  },
  {
   "cell_type": "markdown",
   "id": "a63fa107",
   "metadata": {},
   "source": [
    "### **<font color=\"blue\">Version of the model with higher capacity</font>**"
   ]
  },
  {
   "cell_type": "code",
   "execution_count": 15,
   "id": "bc9d31a9",
   "metadata": {},
   "outputs": [
    {
     "name": "stdout",
     "output_type": "stream",
     "text": [
      "Epoch 1/20\n",
      "30/30 [==============================] - 4s 98ms/step - loss: 0.5418 - accuracy: 0.7557 - val_loss: 0.3254 - val_accuracy: 0.8723\n",
      "Epoch 2/20\n",
      "30/30 [==============================] - 3s 92ms/step - loss: 0.2491 - accuracy: 0.9016 - val_loss: 0.3938 - val_accuracy: 0.8320\n",
      "Epoch 3/20\n",
      "30/30 [==============================] - 3s 86ms/step - loss: 0.1567 - accuracy: 0.9425 - val_loss: 0.2990 - val_accuracy: 0.8897\n",
      "Epoch 4/20\n",
      "30/30 [==============================] - 3s 86ms/step - loss: 0.0709 - accuracy: 0.9764 - val_loss: 0.3834 - val_accuracy: 0.8829\n",
      "Epoch 5/20\n",
      "30/30 [==============================] - 3s 87ms/step - loss: 0.1112 - accuracy: 0.9799 - val_loss: 0.3574 - val_accuracy: 0.8919\n",
      "Epoch 6/20\n",
      "30/30 [==============================] - 3s 91ms/step - loss: 0.0039 - accuracy: 0.9996 - val_loss: 0.4983 - val_accuracy: 0.8897\n",
      "Epoch 7/20\n",
      "30/30 [==============================] - 3s 88ms/step - loss: 4.6642e-04 - accuracy: 1.0000 - val_loss: 0.6309 - val_accuracy: 0.8885\n",
      "Epoch 8/20\n",
      "30/30 [==============================] - 3s 92ms/step - loss: 0.2517 - accuracy: 0.9736 - val_loss: 0.5524 - val_accuracy: 0.8666\n",
      "Epoch 9/20\n",
      "30/30 [==============================] - 3s 90ms/step - loss: 0.0015 - accuracy: 0.9999 - val_loss: 0.5278 - val_accuracy: 0.8848\n",
      "Epoch 10/20\n",
      "30/30 [==============================] - 3s 88ms/step - loss: 2.5423e-04 - accuracy: 1.0000 - val_loss: 0.6067 - val_accuracy: 0.8864\n",
      "Epoch 11/20\n",
      "30/30 [==============================] - 3s 94ms/step - loss: 8.0557e-05 - accuracy: 1.0000 - val_loss: 0.6934 - val_accuracy: 0.8853\n",
      "Epoch 12/20\n",
      "30/30 [==============================] - 3s 89ms/step - loss: 2.1427e-05 - accuracy: 1.0000 - val_loss: 0.7704 - val_accuracy: 0.8889\n",
      "Epoch 13/20\n",
      "30/30 [==============================] - 3s 88ms/step - loss: 5.5652e-06 - accuracy: 1.0000 - val_loss: 0.8657 - val_accuracy: 0.8860\n",
      "Epoch 14/20\n",
      "30/30 [==============================] - 3s 87ms/step - loss: 1.6885e-06 - accuracy: 1.0000 - val_loss: 0.9395 - val_accuracy: 0.8877\n",
      "Epoch 15/20\n",
      "30/30 [==============================] - 3s 86ms/step - loss: 5.4625e-07 - accuracy: 1.0000 - val_loss: 1.0226 - val_accuracy: 0.8865\n",
      "Epoch 16/20\n",
      "30/30 [==============================] - 3s 88ms/step - loss: 1.9862e-07 - accuracy: 1.0000 - val_loss: 1.0901 - val_accuracy: 0.8873\n",
      "Epoch 17/20\n",
      "30/30 [==============================] - 3s 88ms/step - loss: 8.4038e-08 - accuracy: 1.0000 - val_loss: 1.1482 - val_accuracy: 0.8873\n",
      "Epoch 18/20\n",
      "30/30 [==============================] - 3s 92ms/step - loss: 3.5999e-08 - accuracy: 1.0000 - val_loss: 1.1879 - val_accuracy: 0.8872\n",
      "Epoch 19/20\n",
      "30/30 [==============================] - 3s 93ms/step - loss: 2.1893e-08 - accuracy: 1.0000 - val_loss: 1.2191 - val_accuracy: 0.8874\n",
      "Epoch 20/20\n",
      "30/30 [==============================] - 3s 95ms/step - loss: 1.5541e-08 - accuracy: 1.0000 - val_loss: 1.2357 - val_accuracy: 0.8873\n"
     ]
    }
   ],
   "source": [
    "model = keras.Sequential([\n",
    "    layers.Dense(512, activation=\"relu\"),\n",
    "    layers.Dense(512, activation=\"relu\"),\n",
    "    layers.Dense(1, activation=\"sigmoid\")\n",
    "])\n",
    "model.compile(optimizer=\"rmsprop\",\n",
    "              loss=\"binary_crossentropy\",\n",
    "              metrics=[\"accuracy\"])\n",
    "history_larger_model = model.fit(\n",
    "    train_data, train_labels,\n",
    "    epochs=20, batch_size=512, validation_split=0.4)"
   ]
  },
  {
   "cell_type": "markdown",
   "id": "55a4b850",
   "metadata": {},
   "source": [
    "# **<font color=\"red\">Adding weight regularization</font>**"
   ]
  },
  {
   "cell_type": "markdown",
   "id": "b8fe2612",
   "metadata": {},
   "source": [
    "### **<font color=\"blue\">Adding L2 weight regularization to the model</font>**"
   ]
  },
  {
   "cell_type": "code",
   "execution_count": 16,
   "id": "4b40c55a",
   "metadata": {},
   "outputs": [
    {
     "name": "stdout",
     "output_type": "stream",
     "text": [
      "Epoch 1/20\n",
      "30/30 [==============================] - 2s 23ms/step - loss: 0.5983 - accuracy: 0.7746 - val_loss: 0.4768 - val_accuracy: 0.8576\n",
      "Epoch 2/20\n",
      "30/30 [==============================] - 0s 13ms/step - loss: 0.4034 - accuracy: 0.8953 - val_loss: 0.3934 - val_accuracy: 0.8865\n",
      "Epoch 3/20\n",
      "30/30 [==============================] - 0s 13ms/step - loss: 0.3355 - accuracy: 0.9140 - val_loss: 0.3775 - val_accuracy: 0.8813\n",
      "Epoch 4/20\n",
      "30/30 [==============================] - 0s 11ms/step - loss: 0.3030 - accuracy: 0.9246 - val_loss: 0.3612 - val_accuracy: 0.8916\n",
      "Epoch 5/20\n",
      "30/30 [==============================] - 0s 12ms/step - loss: 0.2845 - accuracy: 0.9299 - val_loss: 0.3763 - val_accuracy: 0.8798\n",
      "Epoch 6/20\n",
      "30/30 [==============================] - 0s 12ms/step - loss: 0.2709 - accuracy: 0.9367 - val_loss: 0.3658 - val_accuracy: 0.8850\n",
      "Epoch 7/20\n",
      "30/30 [==============================] - 0s 12ms/step - loss: 0.2598 - accuracy: 0.9411 - val_loss: 0.3756 - val_accuracy: 0.8804\n",
      "Epoch 8/20\n",
      "30/30 [==============================] - 0s 11ms/step - loss: 0.2546 - accuracy: 0.9417 - val_loss: 0.3747 - val_accuracy: 0.8832\n",
      "Epoch 9/20\n",
      "30/30 [==============================] - 0s 11ms/step - loss: 0.2472 - accuracy: 0.9452 - val_loss: 0.3739 - val_accuracy: 0.8834\n",
      "Epoch 10/20\n",
      "30/30 [==============================] - 0s 11ms/step - loss: 0.2409 - accuracy: 0.9471 - val_loss: 0.3807 - val_accuracy: 0.8806\n",
      "Epoch 11/20\n",
      "30/30 [==============================] - 0s 12ms/step - loss: 0.2396 - accuracy: 0.9463 - val_loss: 0.3878 - val_accuracy: 0.8798\n",
      "Epoch 12/20\n",
      "30/30 [==============================] - 0s 12ms/step - loss: 0.2314 - accuracy: 0.9511 - val_loss: 0.3885 - val_accuracy: 0.8796\n",
      "Epoch 13/20\n",
      "30/30 [==============================] - 0s 11ms/step - loss: 0.2339 - accuracy: 0.9472 - val_loss: 0.3944 - val_accuracy: 0.8787\n",
      "Epoch 14/20\n",
      "30/30 [==============================] - 0s 11ms/step - loss: 0.2225 - accuracy: 0.9533 - val_loss: 0.3920 - val_accuracy: 0.8803\n",
      "Epoch 15/20\n",
      "30/30 [==============================] - 0s 12ms/step - loss: 0.2217 - accuracy: 0.9525 - val_loss: 0.4378 - val_accuracy: 0.8671\n",
      "Epoch 16/20\n",
      "30/30 [==============================] - 0s 13ms/step - loss: 0.2222 - accuracy: 0.9536 - val_loss: 0.4002 - val_accuracy: 0.8789\n",
      "Epoch 17/20\n",
      "30/30 [==============================] - 0s 12ms/step - loss: 0.2154 - accuracy: 0.9555 - val_loss: 0.4496 - val_accuracy: 0.8641\n",
      "Epoch 18/20\n",
      "30/30 [==============================] - 0s 11ms/step - loss: 0.2078 - accuracy: 0.9609 - val_loss: 0.5219 - val_accuracy: 0.8478\n",
      "Epoch 19/20\n",
      "30/30 [==============================] - 0s 11ms/step - loss: 0.2113 - accuracy: 0.9585 - val_loss: 0.4124 - val_accuracy: 0.8776\n",
      "Epoch 20/20\n",
      "30/30 [==============================] - 0s 11ms/step - loss: 0.2054 - accuracy: 0.9613 - val_loss: 0.4208 - val_accuracy: 0.8757\n"
     ]
    }
   ],
   "source": [
    "from tensorflow.keras import regularizers\n",
    "model = keras.Sequential([\n",
    "    layers.Dense(16,\n",
    "                 kernel_regularizer=regularizers.l2(0.002),\n",
    "                 activation=\"relu\"),\n",
    "    layers.Dense(16,\n",
    "                 kernel_regularizer=regularizers.l2(0.002),\n",
    "                 activation=\"relu\"),\n",
    "    layers.Dense(1, activation=\"sigmoid\")\n",
    "])\n",
    "model.compile(optimizer=\"rmsprop\",\n",
    "              loss=\"binary_crossentropy\",\n",
    "              metrics=[\"accuracy\"])\n",
    "history_l2_reg = model.fit(\n",
    "    train_data, train_labels,\n",
    "    epochs=20, batch_size=512, validation_split=0.4)"
   ]
  },
  {
   "cell_type": "markdown",
   "id": "b88f4212",
   "metadata": {},
   "source": [
    "### **<font color=\"blue\">Different weight regularizers available in Keras</font>**"
   ]
  },
  {
   "cell_type": "code",
   "execution_count": 17,
   "id": "5b997783",
   "metadata": {},
   "outputs": [
    {
     "data": {
      "text/plain": [
       "<keras.regularizers.L1L2 at 0x2af30b57d90>"
      ]
     },
     "execution_count": 17,
     "metadata": {},
     "output_type": "execute_result"
    }
   ],
   "source": [
    "from tensorflow.keras import regularizers\n",
    "regularizers.l1(0.001)\n",
    "regularizers.l1_l2(l1=0.001, l2=0.001)"
   ]
  },
  {
   "cell_type": "markdown",
   "id": "0cb488b3",
   "metadata": {},
   "source": [
    "# **<font color=\"red\">Adding dropout</font>**"
   ]
  },
  {
   "cell_type": "markdown",
   "id": "70324bca",
   "metadata": {},
   "source": [
    "### **<font color=\"blue\">Adding dropout to the IMDB model</font>**"
   ]
  },
  {
   "cell_type": "code",
   "execution_count": 18,
   "id": "8b2f2bd4",
   "metadata": {},
   "outputs": [
    {
     "name": "stdout",
     "output_type": "stream",
     "text": [
      "Epoch 1/20\n",
      "30/30 [==============================] - 1s 22ms/step - loss: 0.6274 - accuracy: 0.6643 - val_loss: 0.5309 - val_accuracy: 0.8552\n",
      "Epoch 2/20\n",
      "30/30 [==============================] - 0s 15ms/step - loss: 0.5083 - accuracy: 0.7803 - val_loss: 0.4251 - val_accuracy: 0.8666\n",
      "Epoch 3/20\n",
      "30/30 [==============================] - 0s 15ms/step - loss: 0.4221 - accuracy: 0.8352 - val_loss: 0.3500 - val_accuracy: 0.8788\n",
      "Epoch 4/20\n",
      "30/30 [==============================] - 0s 16ms/step - loss: 0.3646 - accuracy: 0.8618 - val_loss: 0.3136 - val_accuracy: 0.8823\n",
      "Epoch 5/20\n",
      "30/30 [==============================] - 0s 14ms/step - loss: 0.3135 - accuracy: 0.8863 - val_loss: 0.2928 - val_accuracy: 0.8837\n",
      "Epoch 6/20\n",
      "30/30 [==============================] - 0s 13ms/step - loss: 0.2751 - accuracy: 0.9055 - val_loss: 0.2845 - val_accuracy: 0.8856\n",
      "Epoch 7/20\n",
      "30/30 [==============================] - 0s 14ms/step - loss: 0.2495 - accuracy: 0.9141 - val_loss: 0.2720 - val_accuracy: 0.8942\n",
      "Epoch 8/20\n",
      "30/30 [==============================] - 0s 14ms/step - loss: 0.2205 - accuracy: 0.9267 - val_loss: 0.2783 - val_accuracy: 0.8894\n",
      "Epoch 9/20\n",
      "30/30 [==============================] - 0s 14ms/step - loss: 0.1979 - accuracy: 0.9358 - val_loss: 0.2866 - val_accuracy: 0.8932\n",
      "Epoch 10/20\n",
      "30/30 [==============================] - 0s 14ms/step - loss: 0.1760 - accuracy: 0.9433 - val_loss: 0.3038 - val_accuracy: 0.8920\n",
      "Epoch 11/20\n",
      "30/30 [==============================] - 0s 13ms/step - loss: 0.1576 - accuracy: 0.9476 - val_loss: 0.3272 - val_accuracy: 0.8904\n",
      "Epoch 12/20\n",
      "30/30 [==============================] - 0s 13ms/step - loss: 0.1421 - accuracy: 0.9529 - val_loss: 0.3548 - val_accuracy: 0.8887\n",
      "Epoch 13/20\n",
      "30/30 [==============================] - 0s 13ms/step - loss: 0.1323 - accuracy: 0.9553 - val_loss: 0.3586 - val_accuracy: 0.8886\n",
      "Epoch 14/20\n",
      "30/30 [==============================] - 0s 13ms/step - loss: 0.1226 - accuracy: 0.9606 - val_loss: 0.3860 - val_accuracy: 0.8880\n",
      "Epoch 15/20\n",
      "30/30 [==============================] - 0s 13ms/step - loss: 0.1103 - accuracy: 0.9631 - val_loss: 0.4484 - val_accuracy: 0.8835\n",
      "Epoch 16/20\n",
      "30/30 [==============================] - 0s 13ms/step - loss: 0.1125 - accuracy: 0.9631 - val_loss: 0.4228 - val_accuracy: 0.8888\n",
      "Epoch 17/20\n",
      "30/30 [==============================] - 0s 14ms/step - loss: 0.0969 - accuracy: 0.9677 - val_loss: 0.4658 - val_accuracy: 0.8852\n",
      "Epoch 18/20\n",
      "30/30 [==============================] - 0s 14ms/step - loss: 0.0895 - accuracy: 0.9682 - val_loss: 0.4828 - val_accuracy: 0.8868\n",
      "Epoch 19/20\n",
      "30/30 [==============================] - 0s 14ms/step - loss: 0.0907 - accuracy: 0.9686 - val_loss: 0.4959 - val_accuracy: 0.8873\n",
      "Epoch 20/20\n",
      "30/30 [==============================] - 0s 13ms/step - loss: 0.0820 - accuracy: 0.9730 - val_loss: 0.5354 - val_accuracy: 0.8873\n"
     ]
    }
   ],
   "source": [
    "model = keras.Sequential([\n",
    "    layers.Dense(16, activation=\"relu\"),\n",
    "    layers.Dropout(0.5),\n",
    "    layers.Dense(16, activation=\"relu\"),\n",
    "    layers.Dropout(0.5),\n",
    "    layers.Dense(1, activation=\"sigmoid\")\n",
    "])\n",
    "model.compile(optimizer=\"rmsprop\",\n",
    "              loss=\"binary_crossentropy\",\n",
    "              metrics=[\"accuracy\"])\n",
    "history_dropout = model.fit(\n",
    "    train_data, train_labels,\n",
    "    epochs=20, batch_size=512, validation_split=0.4)"
   ]
  },
  {
   "cell_type": "code",
   "execution_count": null,
   "id": "73a7de9e",
   "metadata": {},
   "outputs": [],
   "source": []
  }
 ],
 "metadata": {
  "kernelspec": {
   "display_name": "Python 3 (ipykernel)",
   "language": "python",
   "name": "python3"
  },
  "language_info": {
   "codemirror_mode": {
    "name": "ipython",
    "version": 3
   },
   "file_extension": ".py",
   "mimetype": "text/x-python",
   "name": "python",
   "nbconvert_exporter": "python",
   "pygments_lexer": "ipython3",
   "version": "3.9.12"
  }
 },
 "nbformat": 4,
 "nbformat_minor": 5
}
